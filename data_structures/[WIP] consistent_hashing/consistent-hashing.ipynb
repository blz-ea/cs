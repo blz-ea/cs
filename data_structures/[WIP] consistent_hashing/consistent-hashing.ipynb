{
 "cells": [
  {
   "cell_type": "markdown",
   "metadata": {},
   "source": [
    "# Traditional Hashing #"
   ]
  },
  {
   "cell_type": "code",
   "execution_count": 12,
   "metadata": {},
   "outputs": [],
   "source": [
    "class StorageNode:\n",
    "    def __init__(self, name: str = None, host: str = None):\n",
    "        self.name = name\n",
    "        self.host = host\n",
    "    \n",
    "    def fetch_file(self, path: str) -> None:\n",
    "        pass\n",
    "    \n",
    "    def put_file(self, path: str) -> None:\n",
    "        pass"
   ]
  },
  {
   "cell_type": "code",
   "execution_count": 18,
   "metadata": {},
   "outputs": [
    {
     "name": "stdout",
     "output_type": "stream",
     "text": [
      "Files f1.txt resides in E\n",
      "Files f2.txt resides in A\n",
      "Files f3.txt resides in B\n",
      "Files f4.txt resides in C\n",
      "Files f5.txt resides in D\n"
     ]
    }
   ],
   "source": [
    "storage_nodes = [\n",
    "    StorageNode(name='A'),\n",
    "    StorageNode(name='B'),\n",
    "    StorageNode(name='C'),\n",
    "    StorageNode(name='D'),\n",
    "    StorageNode(name='E'),\n",
    "]\n",
    "\n",
    "def hash_fn(key):\n",
    "    \"\"\"\n",
    "    The function sums the bytes present in the `key` and then take a mod.\n",
    "    \"\"\"\n",
    "    return sum(bytearray(key.encode('utf-8'))) % 5\n",
    "\n",
    "files = [\n",
    "    'f1.txt',\n",
    "    'f2.txt',\n",
    "    'f3.txt',\n",
    "    'f4.txt',\n",
    "    'f5.txt'\n",
    "]\n",
    "\n",
    "for file in files:\n",
    "    print(f\"Files {file} resides in {storage_nodes[ hash_fn(file) ].name}\")\n",
    "    "
   ]
  },
  {
   "cell_type": "markdown",
   "metadata": {},
   "source": [
    "If new storage is added to the cluster, or an existing gets removed, all keys need to be remapped. If you are dealing with a lot of data it can take quite some time"
   ]
  },
  {
   "cell_type": "markdown",
   "metadata": {},
   "source": [
    "# Consistent Hashing #"
   ]
  },
  {
   "cell_type": "code",
   "execution_count": 19,
   "metadata": {},
   "outputs": [
    {
     "name": "stdout",
     "output_type": "stream",
     "text": [
      "asd\n"
     ]
    }
   ],
   "source": [
    "import hashlib\n",
    "from typing import Union\n",
    "from bisect import bisect, bisect_left, bisect_right\n",
    "import matplotlib.pyplot as plot"
   ]
  },
  {
   "cell_type": "code",
   "execution_count": 15,
   "metadata": {},
   "outputs": [],
   "source": [
    "def hash_fn(key: str, total_slots:int) -> int:\n",
    "    \"\"\"\n",
    "    creates an integer equivalent of SHA256 hash and return modulo\n",
    "    of total_slots\n",
    "    \"\"\"\n",
    "    hsh = hashlib.sha256()\n",
    "    \n",
    "    # convert data into bytes and hash it\n",
    "    hsh.update(key.encode('utf-8')) % total_slots\n",
    "    \n",
    "    # Convert the HEX digest into integer\n",
    "    return int(hsh.hexdigest(), 16) % total_slots"
   ]
  },
  {
   "cell_type": "code",
   "execution_count": 16,
   "metadata": {},
   "outputs": [],
   "source": [
    "class ConsistentHashing:\n",
    "    \"\"\"\n",
    "    Array based implementation of consistent hashing algorithm\n",
    "    \"\"\"\n",
    "    def __init__(self):\n",
    "        self._keys = []\n",
    "        self.nodes = []\n",
    "        self.total_slots = 50\n",
    "    \n",
    "    def add_node(self, node: StorageNode) -> int:\n",
    "        \"\"\"\n",
    "        adds a new node and returns its key from hash space\n",
    "        \"\"\"\n",
    "        if len(self._keys) == self.total_slots:\n",
    "            raise Exception(\"Hash space is full\")\n",
    "        \n",
    "        key = hash_fn(node.host, self.total_slots)\n",
    "        \n",
    "        index = bisect(self._keys, key)\n",
    "        \n",
    "        if index > 0 and self._keys[index - 1] == key:\n",
    "            raise Exception(\"Collision occurred\")\n",
    "        \n",
    "        self.nodes.insert(index, node)\n",
    "        self._keys.insert(index, key)\n",
    "        \n",
    "        return key\n",
    "        "
   ]
  }
 ],
 "metadata": {
  "kernelspec": {
   "display_name": "Python 3",
   "language": "python",
   "name": "python3"
  },
  "language_info": {
   "codemirror_mode": {
    "name": "ipython",
    "version": 3
   },
   "file_extension": ".py",
   "mimetype": "text/x-python",
   "name": "python",
   "nbconvert_exporter": "python",
   "pygments_lexer": "ipython3",
   "version": "3.7.7"
  }
 },
 "nbformat": 4,
 "nbformat_minor": 4
}